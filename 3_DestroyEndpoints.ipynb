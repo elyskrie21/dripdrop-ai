{
 "cells": [
  {
   "cell_type": "code",
   "execution_count": null,
   "metadata": {},
   "outputs": [],
   "source": [
    "import boto3"
   ]
  },
  {
   "cell_type": "code",
   "execution_count": null,
   "metadata": {},
   "outputs": [],
   "source": [
    "def cleanup_sagemaker_resources(endpoint_prefix=\"yolov11\"):\n",
    "    \"\"\"\n",
    "    Removes all SageMaker endpoints, endpoint configurations, and models\n",
    "    that match the given endpoint prefix.\n",
    "    \n",
    "    Parameters:\n",
    "    - endpoint_prefix (str): The prefix of the SageMaker endpoints to delete.\n",
    "    \n",
    "    Returns:\n",
    "    - None\n",
    "    \"\"\"\n",
    "    sm_client = boto3.client(\"sagemaker\")\n",
    "\n",
    "    # List all endpoints\n",
    "    print(\"Fetching existing SageMaker endpoints...\")\n",
    "    endpoints = sm_client.list_endpoints(MaxResults=100)\n",
    "\n",
    "    for endpoint in endpoints[\"Endpoints\"]:\n",
    "        endpoint_name = endpoint[\"EndpointName\"]\n",
    "        if endpoint_prefix in endpoint_name:\n",
    "            print(f\"Deleting endpoint: {endpoint_name}\")\n",
    "            sm_client.delete_endpoint(EndpointName=endpoint_name)\n",
    "\n",
    "            # Also delete the endpoint configuration\n",
    "            print(f\"Deleting endpoint configuration: {endpoint_name}\")\n",
    "            sm_client.delete_endpoint_config(EndpointConfigName=endpoint_name)\n",
    "\n",
    "    # List and delete models\n",
    "    print(\"Fetching existing SageMaker models...\")\n",
    "    models = sm_client.list_models(MaxResults=100)\n",
    "\n",
    "    for model in models[\"Models\"]:\n",
    "        model_name = model[\"ModelName\"]\n",
    "        if endpoint_prefix in model_name:\n",
    "            print(f\"Deleting model: {model_name}\")\n",
    "            sm_client.delete_model(ModelName=model_name)\n",
    "\n",
    "    print(\"Cleanup completed. All related SageMaker resources have been removed.\")\n",
    "\n",
    "# Call the function to remove resources"
   ]
  },
  {
   "cell_type": "code",
   "execution_count": null,
   "metadata": {},
   "outputs": [],
   "source": [
    "cleanup_sagemaker_resources()"
   ]
  }
 ],
 "metadata": {
  "kernelspec": {
   "display_name": ".venv",
   "language": "python",
   "name": "python3"
  },
  "language_info": {
   "name": "python",
   "version": "3.12.7"
  }
 },
 "nbformat": 4,
 "nbformat_minor": 2
}
